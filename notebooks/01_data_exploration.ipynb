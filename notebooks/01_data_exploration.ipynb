{
 "cells": [
  {
   "cell_type": "code",
   "execution_count": 1,
   "id": "53563cb3-5c08-40a7-83c9-2e7487e4885e",
   "metadata": {},
   "outputs": [
    {
     "name": "stdout",
     "output_type": "stream",
     "text": [
      "Shape of the data: (10000, 14)\n",
      "\n",
      "First 5 rows:\n",
      "   Unnamed: 0  StudentId  CGPA  Major Projects  Workshops/Certificatios  \\\n",
      "0           0          1   7.5               1                        1   \n",
      "1           1          2   8.9               0                        3   \n",
      "2           2          3   7.3               1                        2   \n",
      "3           3          4   7.5               1                        1   \n",
      "4           4          5   8.3               1                        2   \n",
      "\n",
      "   Mini Projects  Skills  Communication Skill Rating Internship Hackathon  \\\n",
      "0              1       6                         4.4         No        No   \n",
      "1              2       9                         4.0        Yes       Yes   \n",
      "2              2       8                         4.8        Yes        No   \n",
      "3              2       8                         4.4        Yes       Yes   \n",
      "4              2       8                         4.5        Yes       Yes   \n",
      "\n",
      "   12th Percentage  10th Percentage  backlogs PlacementStatus  \n",
      "0               61               79         2       NotPlaced  \n",
      "1               78               82         0          Placed  \n",
      "2               79               80         2       NotPlaced  \n",
      "3               81               80         0          Placed  \n",
      "4               74               88         0          Placed  \n",
      "\n",
      "Data types and missing values:\n",
      "<class 'pandas.core.frame.DataFrame'>\n",
      "RangeIndex: 10000 entries, 0 to 9999\n",
      "Data columns (total 14 columns):\n",
      " #   Column                      Non-Null Count  Dtype  \n",
      "---  ------                      --------------  -----  \n",
      " 0   Unnamed: 0                  10000 non-null  int64  \n",
      " 1   StudentId                   10000 non-null  int64  \n",
      " 2   CGPA                        10000 non-null  float64\n",
      " 3   Major Projects              10000 non-null  int64  \n",
      " 4   Workshops/Certificatios     10000 non-null  int64  \n",
      " 5   Mini Projects               10000 non-null  int64  \n",
      " 6   Skills                      10000 non-null  int64  \n",
      " 7   Communication Skill Rating  10000 non-null  float64\n",
      " 8   Internship                  10000 non-null  object \n",
      " 9   Hackathon                   10000 non-null  object \n",
      " 10  12th Percentage             10000 non-null  int64  \n",
      " 11  10th Percentage             10000 non-null  int64  \n",
      " 12  backlogs                    10000 non-null  int64  \n",
      " 13  PlacementStatus             10000 non-null  object \n",
      "dtypes: float64(2), int64(9), object(3)\n",
      "memory usage: 1.1+ MB\n",
      "None\n"
     ]
    }
   ],
   "source": [
    "import pandas as pd\n",
    "\n",
    "# Load the dataset\n",
    "df = pd.read_csv(\"../data/placement.csv\")\n",
    "\n",
    "# Show basic info\n",
    "print(\"Shape of the data:\", df.shape)\n",
    "print(\"\\nFirst 5 rows:\")\n",
    "print(df.head())\n",
    "\n",
    "# Check column types and null values\n",
    "print(\"\\nData types and missing values:\")\n",
    "print(df.info())\n"
   ]
  },
  {
   "cell_type": "code",
   "execution_count": 2,
   "id": "4a73e460-1e4e-4582-b50a-3c744403f378",
   "metadata": {},
   "outputs": [
    {
     "name": "stdout",
     "output_type": "stream",
     "text": [
      "Missing values:\n",
      " CGPA                          0\n",
      "Major Projects                0\n",
      "Workshops/Certificatios       0\n",
      "Mini Projects                 0\n",
      "Skills                        0\n",
      "Communication Skill Rating    0\n",
      "Internship                    0\n",
      "Hackathon                     0\n",
      "12th Percentage               0\n",
      "10th Percentage               0\n",
      "backlogs                      0\n",
      "PlacementStatus               0\n",
      "dtype: int64\n",
      "\n",
      "Cleaned DataFrame (first 5 rows):\n",
      "   CGPA  Major Projects  Workshops/Certificatios  Mini Projects  Skills  \\\n",
      "0   7.5               1                        1              1       6   \n",
      "1   8.9               0                        3              2       9   \n",
      "2   7.3               1                        2              2       8   \n",
      "3   7.5               1                        1              2       8   \n",
      "4   8.3               1                        2              2       8   \n",
      "\n",
      "   Communication Skill Rating  Internship  Hackathon  12th Percentage  \\\n",
      "0                         4.4           0          0               61   \n",
      "1                         4.0           1          1               78   \n",
      "2                         4.8           1          0               79   \n",
      "3                         4.4           1          1               81   \n",
      "4                         4.5           1          1               74   \n",
      "\n",
      "   10th Percentage  backlogs  PlacementStatus  \n",
      "0               79         2                0  \n",
      "1               82         0                1  \n",
      "2               80         2                0  \n",
      "3               80         0                1  \n",
      "4               88         0                1  \n"
     ]
    }
   ],
   "source": [
    "# 1. Drop unwanted columns\n",
    "df.drop(['Unnamed: 0', 'StudentId'], axis=1, inplace=True)\n",
    "\n",
    "# 2. Encode categorical columns\n",
    "df['Internship'] = df['Internship'].map({'Yes': 1, 'No': 0})\n",
    "df['Hackathon'] = df['Hackathon'].map({'Yes': 1, 'No': 0})\n",
    "df['PlacementStatus'] = df['PlacementStatus'].map({'Placed': 1, 'NotPlaced': 0})\n",
    "\n",
    "# 3. Check for missing values\n",
    "print(\"Missing values:\\n\", df.isnull().sum())\n",
    "\n",
    "# 4. Show cleaned data\n",
    "print(\"\\nCleaned DataFrame (first 5 rows):\")\n",
    "print(df.head())\n"
   ]
  },
  {
   "cell_type": "code",
   "execution_count": 3,
   "id": "e388f2dd-9583-4a09-82f3-926fac94a673",
   "metadata": {},
   "outputs": [
    {
     "name": "stdout",
     "output_type": "stream",
     "text": [
      "Model Accuracy: 0.94\n"
     ]
    }
   ],
   "source": [
    "from sklearn.model_selection import train_test_split\n",
    "from sklearn.ensemble import RandomForestClassifier\n",
    "from sklearn.metrics import accuracy_score\n",
    "\n",
    "# 1. Split features and label\n",
    "X = df.drop('PlacementStatus', axis=1)\n",
    "y = df['PlacementStatus']\n",
    "\n",
    "# 2. Train-test split\n",
    "X_train, X_test, y_train, y_test = train_test_split(X, y, test_size=0.2, random_state=42)\n",
    "\n",
    "# 3. Train model\n",
    "model = RandomForestClassifier(random_state=42)\n",
    "model.fit(X_train, y_train)\n",
    "\n",
    "# 4. Predict and evaluate\n",
    "y_pred = model.predict(X_test)\n",
    "accuracy = accuracy_score(y_test, y_pred)\n",
    "\n",
    "print(f\"Model Accuracy: {accuracy:.2f}\")\n"
   ]
  },
  {
   "cell_type": "code",
   "execution_count": 4,
   "id": "e90d0306-cf38-409d-a70c-8e8df29804c7",
   "metadata": {},
   "outputs": [
    {
     "name": "stdout",
     "output_type": "stream",
     "text": [
      "✅ Model saved to 'saved_models/placement_model.pkl'\n"
     ]
    }
   ],
   "source": [
    "import joblib\n",
    "import os\n",
    "\n",
    "# Create path if not exists\n",
    "os.makedirs(\"../saved_models\", exist_ok=True)\n",
    "\n",
    "# Save the model\n",
    "joblib.dump(model, \"../saved_models/placement_model.pkl\")\n",
    "\n",
    "print(\"✅ Model saved to 'saved_models/placement_model.pkl'\")\n"
   ]
  },
  {
   "cell_type": "code",
   "execution_count": null,
   "id": "c3cb34b8-ef3b-4af5-a4ab-f9fbe3cbc42c",
   "metadata": {},
   "outputs": [],
   "source": []
  }
 ],
 "metadata": {
  "kernelspec": {
   "display_name": "Python 3 (ipykernel)",
   "language": "python",
   "name": "python3"
  },
  "language_info": {
   "codemirror_mode": {
    "name": "ipython",
    "version": 3
   },
   "file_extension": ".py",
   "mimetype": "text/x-python",
   "name": "python",
   "nbconvert_exporter": "python",
   "pygments_lexer": "ipython3",
   "version": "3.13.2"
  }
 },
 "nbformat": 4,
 "nbformat_minor": 5
}
